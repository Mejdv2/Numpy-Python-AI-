{
  "cells": [
    {
      "cell_type": "markdown",
      "metadata": {
        "id": "view-in-github",
        "colab_type": "text"
      },
      "source": [
        "<a href=\"https://colab.research.google.com/github/Mejdv2/Numpy-Python-AI-/blob/main/NumpyAi.ipynb\" target=\"_parent\"><img src=\"https://colab.research.google.com/assets/colab-badge.svg\" alt=\"Open In Colab\"/></a>"
      ]
    },
    {
      "cell_type": "markdown",
      "metadata": {
        "id": "F8hMHixZKDUc"
      },
      "source": [
        "This Imports the Essential Libraries and some other functions (such as activation functions and their derivatives, cost functions, etc)."
      ]
    },
    {
      "cell_type": "code",
      "execution_count": 14,
      "metadata": {
        "colab": {
          "base_uri": "https://localhost:8080/",
          "height": 265
        },
        "id": "ffbnJHZ81K-Y",
        "outputId": "0eda1e60-2dc6-4a2c-d2d9-0781ad0b7fdb"
      },
      "outputs": [
        {
          "output_type": "display_data",
          "data": {
            "text/plain": [
              "<Figure size 432x288 with 1 Axes>"
            ],
            "image/png": "[encoded data removed]"
          },
          "metadata": {
            "needs_background": "light"
          }
        }
      ],
      "source": [
        "import numpy as np\n",
        "import matplotlib.pyplot as plt\n",
        "\n",
        "\n",
        "#\"\"\"Activation Functions\"\"\"\n",
        "\n",
        "\n",
        "class SigmoidActFunc():\n",
        "    def __init__(self):\n",
        "        pass\n",
        "\n",
        "    def Activation(self, z):\n",
        "        return 1 / (1 + np.exp(-z))\n",
        "\n",
        "    def Derivative(self, z):\n",
        "        return self.Activation(z) * (1 - self.Activation(z))\n",
        "\n",
        "\n",
        "class TanHActFunc():\n",
        "    def __init__(self):\n",
        "        pass\n",
        "\n",
        "    def Activation(self, z):\n",
        "        e2z = np.exp(2 * z)\n",
        "        return (e2z - 1) / (e2z + 1)\n",
        "\n",
        "    def Derivative(self, z):\n",
        "        a = self.Activation(z)\n",
        "        return 1 - a **2\n",
        "\n",
        "\n",
        "class SiLUActFunc():\n",
        "    def __init__(self):\n",
        "        pass\n",
        "\n",
        "    def Activation(self, z):\n",
        "        return z / (1 + np.exp(-z))\n",
        "\n",
        "    def Derivative(self, z):\n",
        "        sig = 1 / (1 + np.exp(-z))\n",
        "        return z * sig * (1 - sig) + sig\n",
        "\n",
        "\n",
        "\n",
        "class LinActFunc():\n",
        "    def __init__(self):\n",
        "        pass\n",
        "\n",
        "    def Activation(self, z):\n",
        "        return z\n",
        "\n",
        "    def Derivative(self, z):\n",
        "        return np.ones(z.shape)\n",
        "\n",
        "\n",
        "\n",
        "class ReLUActFunc():\n",
        "    def __init__(self):\n",
        "        pass\n",
        "\n",
        "    def Activation(self, z):\n",
        "\n",
        "        return np.maximum(z, np.zeros(z.shape))\n",
        "\n",
        "    def Derivative(self, z):\n",
        "        FlatZ = z.flatten()\n",
        "        ToRet = np.zeros(FlatZ.shape)\n",
        "\n",
        "        for zEl in range(z.size):\n",
        "            if FlatZ[zEl] > 0:\n",
        "                ToRet[zEl] = 1\n",
        "\n",
        "        return ToRet.reshape(z.shape)\n",
        "\n",
        "\n",
        "\n",
        "class PReLUActFunc():\n",
        "    def __init__(self):\n",
        "        pass\n",
        "\n",
        "    def Activation(self, z):\n",
        "\n",
        "        return np.maximum(z, z * 0.05)\n",
        "\n",
        "    def Derivative(self, z):\n",
        "        FlatZ = z.flatten()\n",
        "        ToRet = np.zeros(FlatZ.shape) + 0.05\n",
        "\n",
        "        for zEl in range(FlatZ.size):\n",
        "            if FlatZ[zEl] > 0:\n",
        "                ToRet[zEl] = 1\n",
        "\n",
        "        return ToRet.reshape(z.shape)\n",
        "\n",
        "\n",
        "\n",
        "\n",
        "class SoftmaxActFunc():\n",
        "    def __init__(self):\n",
        "        pass\n",
        "\n",
        "    def Activation(self, z):\n",
        "        expSum = np.sum(z, 1)\n",
        "\n",
        "        return np.array([z[i] / expSum[i] for i in range(len(expSum))])\n",
        "\n",
        "    def Derivative(self, z):\n",
        "        expSum   = np.sum(z, 1)\n",
        "        expIn    = z\n",
        "        nNpA = [(expIn[i] * expSum[i] - expIn[i] ** 2) / (expSum[i] ** 2) for i in range(len(expSum))]\n",
        "\n",
        "        return np.array(nNpA)\n",
        "\n",
        "\n",
        "\n",
        "\n",
        "#\"\"\"ERROR FUNCTIONS\"\"\"\n",
        "\n",
        "\n",
        "\n",
        "class MeanSquaredErrorCostFunc():\n",
        "    def __init__(self):\n",
        "        pass\n",
        "\n",
        "    def Cost(self, Output, Expected):\n",
        "        return (Output - Expected) **2\n",
        "\n",
        "    def Derivative(self, Output, Expected):\n",
        "        return 2 * (Output - Expected)\n",
        "    \n",
        "\n",
        "class CrossEntropy():\n",
        "    def __init__(self):\n",
        "        pass\n",
        "\n",
        "    def Cost(predictions, targets):\n",
        "        \"\"\"\n",
        "        Computes cross entropy between targets (encoded as one-hot vectors)\n",
        "        and predictions. \n",
        "        Input: predictions (N, k) ndarray\n",
        "               targets (N, k) ndarray        \n",
        "        Returns: scalar\n",
        "        \"\"\"\n",
        " \n",
        "        ce = -np.sum(targets*np.log2(predictions+1e-12))\n",
        "        return ce\n",
        "\n",
        "\n",
        "\n",
        "\n",
        "#\"\"\"TRAINING FUNCTIONS\"\"\"\n",
        "\n",
        "\n",
        "\n",
        "\n",
        "class SGD():\n",
        "    def __init__(self, LrW, LrB, Momentum = 0.0):\n",
        "        self.LrWeight = LrW\n",
        "        self.LrBias   = LrB\n",
        "        self.Momentum = Momentum\n",
        "\n",
        "    def CalcGrad(FSelf, self, PrevLayer):\n",
        "        self.Backproped      = np.array([self.weights.dot(self.NodeValues[0])])\n",
        "\n",
        "        self.WeightGradiant += np.dot(PrevLayer.Activations.T, self.NodeValues)\n",
        "        self.BiasGradiant   += np.sum(self.NodeValues, 0)\n",
        "\n",
        "        return self\n",
        "\n",
        "    def AppGrad(FSelf, self, DataSize):\n",
        "        self.biases  -= self.BiasGradiant   * (FSelf.LrBias / DataSize)\n",
        "        self.weights -= self.WeightGradiant * (FSelf.LrWeight / DataSize)\n",
        "\n",
        "        self.biases  -= self.BiasOld * FSelf.Momentum\n",
        "        self.weights -= self.WeightOld   * FSelf.Momentum\n",
        "\n",
        "        self.WeightOld       = self.WeightGradiant * (FSelf.LrWeight / DataSize)\n",
        "        self.BiasOld         = self.BiasGradiant   * (FSelf.LrBias / DataSize)\n",
        "\n",
        "        self.BiasGradiant    = np.zeros((1, self.NumOutNodes))\n",
        "        self.WeightGradiant  = np.zeros((self.NumInNodes, self.NumOutNodes))\n",
        "\n",
        "        return self\n",
        "\n",
        "Sigmoid = SigmoidActFunc()\n",
        "Linear  = LinActFunc()\n",
        "PReLU   = PReLUActFunc()\n",
        "ReLU    = ReLUActFunc()\n",
        "TanH    = TanHActFunc()\n",
        "SiLU    = SiLUActFunc()\n",
        "Softmax = SoftmaxActFunc()\n",
        "\n",
        "MeanSquaredError = MeanSquaredErrorCostFunc()\n",
        "\n",
        "\n",
        "x = Sigmoid.Activation(np.array([x/100 for x in range(-500, 500, 1)]))\n",
        "y = Sigmoid.Derivative(np.array([x/100 for x in range(-500, 500, 1)]))\n",
        "\n",
        "plt.plot(x)\n",
        "plt.plot(y)\n",
        "\n",
        "\n",
        "\n",
        "plt.show()"
      ]
    },
    {
      "cell_type": "markdown",
      "metadata": {
        "id": "YUfbHOQnbFC2"
      },
      "source": [
        "Imports tensorflow to load mnist dataset. then unload it."
      ]
    },
    {
      "cell_type": "code",
      "execution_count": null,
      "metadata": {
        "colab": {
          "base_uri": "https://localhost:8080/"
        },
        "id": "wGFXaOk-a4Lu",
        "outputId": "8db5d7ff-613f-4d35-c11b-18d7c50b8c33"
      },
      "outputs": [
        {
          "name": "stdout",
          "output_type": "stream",
          "text": [
            "Downloading data from https://storage.googleapis.com/tensorflow/tf-keras-datasets/mnist.npz\n",
            "11490434/11490434 [==============================] - 0s 0us/step\n",
            "(60000, 784)\n"
          ]
        }
      ],
      "source": [
        "import tensorflow as tf\n",
        "\n",
        "(x_train, y_train), (x_test, y_test) = tf.keras.datasets.mnist.load_data()\n",
        "assert x_train.shape == (60000, 28, 28)\n",
        "assert x_test.shape == (10000, 28, 28)\n",
        "assert y_train.shape == (60000,)\n",
        "assert y_test.shape == (10000,)\n",
        "\n",
        "x_train = x_train.reshape(60000, 784)/255\n",
        "x_test  = x_test.reshape(10000, 784)/255\n",
        "\n",
        "print(x_train.shape)\n",
        "\n",
        "\n",
        "del tf"
      ]
    },
    {
      "cell_type": "markdown",
      "metadata": {
        "id": "098ane3CcQ_T"
      },
      "source": [
        "Next is formatting the output."
      ]
    },
    {
      "cell_type": "code",
      "execution_count": null,
      "metadata": {
        "id": "tb_vrewFcdP7"
      },
      "outputs": [],
      "source": [
        "convertedY = np.zeros((60000, 10))\n",
        "\n",
        "\n",
        "for i in range(len(y_train)):\n",
        "    currUpdate = y_train[i]\n",
        "    toOut = np.zeros(10)\n",
        "    toOut[currUpdate] = 1\n",
        "    convertedY[i] = toOut\n",
        "\n",
        "y_train = convertedY[0:60000]"
      ]
    },
    {
      "cell_type": "code",
      "execution_count": null,
      "metadata": {
        "id": "fS6HznLjhF6_"
      },
      "outputs": [],
      "source": [
        "convertedY = np.zeros((10000, 10))\n",
        "\n",
        "\n",
        "for i in range(len(y_test)):\n",
        "    currUpdate = y_test[i]\n",
        "    toOut = np.zeros(10)\n",
        "    toOut[currUpdate] = 1\n",
        "    convertedY[i] = toOut\n",
        "\n",
        "y_test = convertedY"
      ]
    },
    {
      "cell_type": "markdown",
      "metadata": {
        "id": "C1fJN2J4K7MY"
      },
      "source": [
        "Next is the layer class definition. We randomly define weights based off of the previous layer size and the current layer size. The -**self.Activations**- variable is used during feedforward to pass its values to the next layer. then we use it with  the **np.dot** function to feedforward it with the current weights, After that bias is added then the variable is activated and passed and so on.\n",
        "\n",
        "****NOTE:**** The first layer (Input Layer) does not dot its activation with the weights because it has no weights nor biases."
      ]
    },
    {
      "cell_type": "code",
      "execution_count": 7,
      "metadata": {
        "id": "zIarRF-rlLfT"
      },
      "outputs": [],
      "source": [
        "class Layer():\n",
        "    def __init__(self, NumNodes, Activation, BackProper):\n",
        "        self.NumOutNodes    = NumNodes\n",
        "        self.NumInNodes     = 1\n",
        "\n",
        "        self.ActFunc        = Activation.Activation\n",
        "        self.DerFunc        = Activation.Derivative\n",
        "\n",
        "        self.BPCalc         = BackProper\n",
        "        self.WeightOld      = np.zeros((self.NumInNodes, NumNodes))\n",
        "        self.BiasOld        = np.zeros((1, NumNodes))\n",
        "\n",
        "\n",
        "        self.Activations    = np.zeros((1, NumNodes))\n",
        "        self.WeightedOut    = np.zeros((1, NumNodes))\n",
        "        self.Backproped     = np.zeros((1, NumNodes))\n",
        "        self.NodeValues     = np.zeros((1, NumNodes))\n",
        "        self.WeightGradiant = np.zeros((self.NumInNodes, NumNodes))\n",
        "        self.BiasGradiant   = np.zeros((1, NumNodes))\n",
        "\n",
        "        self.weights        = np.random.uniform(size = (self.NumInNodes, self.NumOutNodes)) / np.sqrt(self.NumInNodes)\n",
        "        self.biases         = np.zeros((1,              self.NumOutNodes))\n",
        "\n",
        "    def Update_InputDim(self, NumNodesIn):\n",
        "        self.NumInNodes = NumNodesIn\n",
        "\n",
        "        \n",
        "        self.weights = np.random.uniform(size = (self.NumInNodes, self.NumOutNodes)) / np.sqrt(self.NumInNodes)\n",
        "        self.WeightGradiant = np.zeros((self.NumInNodes, self.NumOutNodes))\n",
        "\n",
        "    def FeedForward(self, PrevLayer):\n",
        "        PrevLayerAct = PrevLayer.Activations\n",
        "\n",
        "        WeightedOut = np.dot(PrevLayerAct, self.weights)\n",
        "        InactiveOut = np.add(WeightedOut,  self.biases)\n",
        "\n",
        "        ActOutPut   = self.ActFunc(InactiveOut)\n",
        "\n",
        "        self.WeightedOut = InactiveOut\n",
        "        self.Activations = ActOutPut\n",
        "\n",
        "\n",
        "    #Now It's Time For BACKPROPOGATION!\n",
        "\n",
        "\n",
        "    def BackPropLayer(self, PrevLayer, NextLayer):\n",
        "        self.NodeValues  = NextLayer.Backproped\n",
        "        self.NodeValues *= self.DerFunc(self.WeightedOut)\n",
        "\n",
        "        self = self.BPCalc.CalcGrad(self, PrevLayer)\n",
        "\n",
        "    def ApplyGradiants(self, DataSize):\n",
        "        self = self.BPCalc.AppGrad(self, DataSize)"
      ]
    },
    {
      "cell_type": "markdown",
      "metadata": {
        "id": "82S9nKZvd-x0"
      },
      "source": [
        "In the above script, you can see that we need the next layer. This is because in each layer, we calculate the previous layer's node values. The weights' gradiant is adjusted by the previous layers activation (for input layer that's just the input) multiplied by the new node values. The bias's gradiant on the other hand are adjusted based off of the new node values."
      ]
    },
    {
      "cell_type": "code",
      "execution_count": 8,
      "metadata": {
        "id": "ofl3yZnlN-Hh"
      },
      "outputs": [],
      "source": [
        "class OutputLayer():\n",
        "    def __init__(self, NumNodes, Activation, Cost, BackProper):\n",
        "        self.NumOutNodes    = NumNodes\n",
        "        self.NumInNodes     = 1\n",
        "\n",
        "        self.ActFunc        = Activation.Activation\n",
        "        self.DerFunc        = Activation.Derivative\n",
        "\n",
        "        self.CostFunc       = Cost.Cost\n",
        "        self.CostDerivative = Cost.Derivative\n",
        "\n",
        "        self.BPCalc         = BackProper\n",
        "        self.WeightOld      = np.zeros((self.NumInNodes, NumNodes))\n",
        "        self.BiasOld        = np.zeros((1, NumNodes))\n",
        "\n",
        "        self.Activations    = np.zeros((1, NumNodes))\n",
        "        self.WeightedOut    = np.zeros((1, NumNodes))\n",
        "        self.Backproped     = np.zeros((1, NumNodes))\n",
        "        self.NodeValues     = np.zeros((1, NumNodes))\n",
        "        self.BiasGradiant   = np.zeros((1, NumNodes))\n",
        "\n",
        "        \n",
        "        self.weights     = np.random.uniform(size = (self.NumInNodes, self.NumOutNodes)) / np.sqrt(self.NumInNodes)\n",
        "        self.biases         = np.zeros((1, self.NumOutNodes))\n",
        "\n",
        "    def Update_InputDim(self, NumNodesIn):\n",
        "        self.NumInNodes = NumNodesIn\n",
        "\n",
        "        self.weights     = np.random.uniform(size = (self.NumInNodes, self.NumOutNodes)) / np.sqrt(self.NumInNodes)\n",
        "        self.WeightGradiant = np.zeros((self.NumInNodes, self.NumOutNodes))\n",
        "        self.biases         = np.zeros((1, self.NumOutNodes))\n",
        "\n",
        "    def FeedForward(self, PrevLayer):\n",
        "        PrevLayerAct = PrevLayer.Activations\n",
        "\n",
        "        WeightedOut = np.dot(PrevLayerAct, self.weights)\n",
        "        InactiveOut = np.add(WeightedOut,  self.biases)\n",
        "\n",
        "        ActOutPut   = self.ActFunc(InactiveOut)\n",
        "\n",
        "        self.WeightedOut = InactiveOut\n",
        "        self.Activations = ActOutPut\n",
        "\n",
        "\n",
        "    #Now It's Time For BACKPROPOGATION!\n",
        "\n",
        "\n",
        "    def CalculateNodeValues(self, ExpectedOut):\n",
        "        CurrentOut     = self.Activations\n",
        "        WeightedOutput = self.WeightedOut\n",
        "\n",
        "        CostDerivative   = self.CostDerivative(CurrentOut, ExpectedOut)\n",
        "        OutputDerivative = self.DerFunc(WeightedOutput)\n",
        "\n",
        "        NodeValue = CostDerivative * OutputDerivative\n",
        "        return NodeValue\n",
        "\n",
        "    def BackPropOutput(self, ExpectedOutput, PrevLayer):\n",
        "        self.NodeValues      = self.CalculateNodeValues(ExpectedOutput)\n",
        "        self = self.BPCalc.CalcGrad(self, PrevLayer)\n",
        "\n",
        "    def ApplyGradiants(self, DataSize):\n",
        "        self = self.BPCalc.AppGrad(self, DataSize)"
      ]
    },
    {
      "cell_type": "markdown",
      "metadata": {
        "id": "iq1f1L15bN0V"
      },
      "source": [
        "As you might have noticed in the \n",
        "Backpropagation/Gradiant Descent section, we use a cost/loss function to calculate the error. this is to figure out how much we should change the node values and how much of an effect does each weight has on the error and how to decrease the error. The new value each of the weights' gradiant is equal to the new node values multiplied by the previous layers activations. The bias's gradiant is adjusted based off of the new node values."
      ]
    },
    {
      "cell_type": "code",
      "execution_count": 2,
      "metadata": {
        "id": "VpEJ-uwPITBa"
      },
      "outputs": [],
      "source": [
        "class InputLayer():\n",
        "    def __init__(self, NumNodes):\n",
        "        self.NumOutNodes = NumNodes\n",
        "\n",
        "        self.Activations = np.zeros((1, NumNodes))\n",
        "\n",
        "    def ApplyGradiants(self, DataSize):\n",
        "        pass"
      ]
    },
    {
      "cell_type": "code",
      "execution_count": 3,
      "metadata": {
        "id": "yrLV12Im88F8"
      },
      "outputs": [],
      "source": [
        "class NeuralNetwork():\n",
        "    def __init__(self):\n",
        "        self.layers = []\n",
        "\n",
        "    def Add_Layer(self, Layer):\n",
        "        LayerAdd = Layer\n",
        "\n",
        "        if len(self.layers) > 0:\n",
        "            LayerAdd.Update_InputDim(self.layers[-1].NumOutNodes)\n",
        "\n",
        "        self.layers.append(LayerAdd)\n",
        "\n",
        "    def Predict(self, Input):\n",
        "        if len(self.layers) < 1:\n",
        "            raise ValueError(\"No Layers Found In Neural Network!\")\n",
        "\n",
        "        if len(self.layers) > 0:\n",
        "            self.layers[0].Activations = Input\n",
        "\n",
        "        if len(self.layers) > 1:\n",
        "            for LayerIndex in range(1, len(self.layers), 1):\n",
        "                self.layers[LayerIndex].FeedForward(self.layers[LayerIndex - 1])\n",
        "\n",
        "        return self.layers[-1].Activations\n",
        "\n",
        "    def BackProp(self, Inputs, Outputs):\n",
        "        if len(self.layers) < 2:\n",
        "            raise ValueError(\"Not Enough Layers In Neural Network! (Two Required for Training!)\")\n",
        "\n",
        "        self.Predict(Inputs)\n",
        "\n",
        "        self.layers[-1].BackPropOutput(Outputs, self.layers[-2])\n",
        "\n",
        "        if len(self.layers) > 2:\n",
        "            for LayerIndex in range(1, len(self.layers) - 1, -1):\n",
        "                self.layers[LayerIndex].BackPropLayer(self.layers[LayerIndex - 1], self.layers[LayerIndex + 1])\n",
        "\n",
        "    def ApplyAllGradiants(self, DatasetSize):\n",
        "        for i in range(len(self.layers)):\n",
        "            self.layers[i].ApplyGradiants(DatasetSize)\n",
        "\n",
        "    def CalcCost(self, Input, ExpectedOutput):\n",
        "        CostFunc = self.layers[-1].CostFunc\n",
        "\n",
        "        Output = self.Predict(Input)\n",
        "        return np.sum(CostFunc(Output, ExpectedOutput))\n",
        "\n",
        "    def CalcCosts(self, Inputs, ExpectedOutputs):\n",
        "        Costs = [self.CalcCost(Input, Output) for Input, Output in zip(Inputs, ExpectedOutputs)]\n",
        "\n",
        "        return np.sum(Costs) / len(Inputs)"
      ]
    },
    {
      "cell_type": "markdown",
      "metadata": {
        "id": "OK-eBDLvUbAB"
      },
      "source": [
        "****Test Time!****"
      ]
    },
    {
      "cell_type": "code",
      "execution_count": 25,
      "metadata": {
        "colab": {
          "base_uri": "https://localhost:8080/"
        },
        "id": "WfhfJTP0Ulta",
        "outputId": "29ee445c-be51-4137-ea1f-65d89de513c7"
      },
      "outputs": [
        {
          "output_type": "stream",
          "name": "stdout",
          "text": [
            "[[0.59798467 0.58995246]\n",
            " [0.61574093 0.60467048]\n",
            " [0.61360432 0.6033528 ]\n",
            " [0.6199483  0.60833722]\n",
            " [0.62217114 0.6101578 ]\n",
            " [0.62637205 0.6135757 ]\n",
            " [0.62605381 0.61332954]\n",
            " [0.6267148  0.61388084]]\n"
          ]
        }
      ],
      "source": [
        "\n",
        "TM = SGD(0.5, 0.2, 0)\n",
        "\n",
        "Neural = NeuralNetwork()\n",
        "Neural.Add_Layer(InputLayer(2))\n",
        "\n",
        "Neural.Add_Layer(Layer(3, TanH, TM))\n",
        "Neural.Add_Layer(Layer(3, TanH, TM))\n",
        "\n",
        "Neural.Add_Layer(OutputLayer(2, Sigmoid, MeanSquaredError, TM))\n",
        "\n",
        "InputsX  = np.array([[1, 1], [1, 2], [2, 1], [1.8, 1.8],\n",
        " [2, 2], [2.4, 3.2], [2.6, 2.8], [3, 3]])\n",
        "OutputsY = np.array([[0, 1], [0, 1], [0, 1], [0, 1],\n",
        "     [1, 0], [1, 0],   [1, 0], [1, 0]])\n",
        "\n",
        "print(Neural.Predict(InputsX))"
      ]
    },
    {
      "cell_type": "code",
      "execution_count": 28,
      "metadata": {
        "colab": {
          "base_uri": "https://localhost:8080/"
        },
        "id": "q1OA-iFVTl98",
        "outputId": "55f050d0-a6a6-4c73-fc1d-b649d6c59720"
      },
      "outputs": [
        {
          "output_type": "stream",
          "name": "stdout",
          "text": [
            "0.09268102178087703\n",
            "0.07269924238410425\n"
          ]
        }
      ],
      "source": [
        "print(Neural.CalcCosts(InputsX, OutputsY))\n",
        "\n",
        "for i in range(100000):\n",
        "    Neural.BackProp(InputsX, OutputsY)\n",
        "    Neural.ApplyAllGradiants(8)\n",
        "    \n",
        "print(Neural.CalcCosts(InputsX, OutputsY))\n",
        "\n",
        "x = np.argmax(Neural.Predict(InputsX), 1)"
      ]
    },
    {
      "cell_type": "code",
      "execution_count": 29,
      "metadata": {
        "colab": {
          "base_uri": "https://localhost:8080/"
        },
        "id": "qWt_KTghcRxM",
        "outputId": "da301b07-1ca3-45e0-c493-8fe647b9d06c"
      },
      "outputs": [
        {
          "output_type": "stream",
          "name": "stdout",
          "text": [
            "[1 1 1 1 0 0 0 0]\n",
            "[[2.57667940e-05 9.99974164e-01]\n",
            " [6.66980357e-02 9.33284026e-01]\n",
            " [3.53816849e-02 9.64581979e-01]\n",
            " [3.81510975e-01 6.18459351e-01]\n",
            " [6.44320836e-01 3.55694831e-01]\n",
            " [9.34375846e-01 6.56491515e-02]\n",
            " [9.24611483e-01 7.54142954e-02]\n",
            " [9.45008069e-01 5.50129028e-02]]\n"
          ]
        }
      ],
      "source": [
        "print(x)\n",
        "\n",
        "print(Neural.Predict(InputsX))"
      ]
    },
    {
      "cell_type": "markdown",
      "metadata": {
        "id": "M1A7nCERiSHm"
      },
      "source": [
        "Now It's Time For the Big Test!"
      ]
    },
    {
      "cell_type": "code",
      "execution_count": 31,
      "metadata": {
        "colab": {
          "base_uri": "https://localhost:8080/"
        },
        "id": "pL44heeTI64T",
        "outputId": "89db2d2e-c211-4a23-8e69-f241445a1af8"
      },
      "outputs": [
        {
          "output_type": "stream",
          "name": "stdout",
          "text": [
            "(100000, 1)\n",
            "12.966660253851986\n",
            "5.21165887414919e-31\n",
            "[[2.55]]\n",
            "[[3.]]\n",
            "[[0.45]]\n"
          ]
        }
      ],
      "source": [
        "TM = SGD(0.2, 0.2, 0)\n",
        "\n",
        "np.random.seed(4)\n",
        "\n",
        "nn = NeuralNetwork()\n",
        "\n",
        "nn.Add_Layer(InputLayer(1))\n",
        "\n",
        "nn.Add_Layer(OutputLayer(1, Linear, MeanSquaredError, TM))\n",
        "\n",
        "\n",
        "x = np.random.normal(size=(100000, 1))\n",
        "\n",
        "print(x.shape)\n",
        "\n",
        "y = x * 2.55 + 3\n",
        "\n",
        "print(nn.CalcCosts(x, y))\n",
        "\n",
        "for i in range(10000):\n",
        "    nn.BackProp(x, y)\n",
        "    nn.ApplyAllGradiants(100000)\n",
        "\n",
        "print(nn.CalcCosts(x, y))\n",
        "\n",
        "print(nn.layers[-1].weights)\n",
        "print(nn.layers[-1].biases)\n",
        "\n",
        "print(nn.Predict(-1))"
      ]
    },
    {
      "cell_type": "markdown",
      "source": [
        "Discard The Rest, i havent implemented Cross Entropy and A descent softmax yet."
      ],
      "metadata": {
        "id": "uddtqG2WAdPt"
      }
    },
    {
      "cell_type": "code",
      "execution_count": null,
      "metadata": {
        "id": "fsszGfkHiPZO"
      },
      "outputs": [],
      "source": [
        "NeuralT = NeuralNetwork()\n",
        "NeuralT.Add_Layer(InputLayer(784))\n",
        "\n",
        "NeuralT.Add_Layer(Layer(50, Sigmoid, 5, 0.25))\n",
        "# NeuralT.Add_Layer(Layer(216, Sigmoid, 0.5, 0.0025))\n",
        "\n",
        "NeuralT.Add_Layer(OutputLayer(10, Sigmoid, MeanSquaredError, 5, 0.25))"
      ]
    },
    {
      "cell_type": "code",
      "execution_count": null,
      "metadata": {
        "id": "3r6vTtpfjzVd"
      },
      "outputs": [],
      "source": [
        "print(NeuralT.CalcCosts(x_train, y_train))\n",
        "\n",
        "for i in range(10):\n",
        "    NeuralT.BackProp(x_train, y_train)\n",
        "    NeuralT.ApplyAllGradiants(10000)\n",
        "    \n",
        "\n",
        "\n",
        "print(NeuralT.CalcCosts(x_train, y_train))\n",
        "\n",
        "print(np.argmax(NeuralT.Predict(x_train[1])))\n",
        "\n",
        "print(np.argmax(y_train[1]))"
      ]
    },
    {
      "cell_type": "code",
      "execution_count": null,
      "metadata": {
        "id": "3UW3F0FywRMa"
      },
      "outputs": [],
      "source": [
        "\n",
        "print(np.argmax(NeuralT.Predict(x_train[10])))\n",
        "\n",
        "print(np.argmax(y_train[10]))"
      ]
    }
  ],
  "metadata": {
    "colab": {
      "provenance": [],
      "authorship_tag": "ABX9TyOwx2Cvdv7isWxL+VOVC870",
      "include_colab_link": true
    },
    "kernelspec": {
      "display_name": "Python 3",
      "name": "python3"
    },
    "language_info": {
      "name": "python"
    }
  },
  "nbformat": 4,
  "nbformat_minor": 0
}